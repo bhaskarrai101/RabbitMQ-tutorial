{
 "cells": [
  {
   "cell_type": "code",
   "execution_count": 1,
   "id": "14741c62",
   "metadata": {},
   "outputs": [],
   "source": [
    "import pika\n",
    "import sys, os"
   ]
  },
  {
   "cell_type": "code",
   "execution_count": 2,
   "id": "8d022d5c",
   "metadata": {},
   "outputs": [
    {
     "name": "stdout",
     "output_type": "stream",
     "text": [
      "[x] Sent 'hello world!'\n"
     ]
    }
   ],
   "source": [
    "### for sender\n",
    "# define connection\n",
    "credentials = pika.PlainCredentials('user_name','password')# user name and password logged in rabbitmq server\n",
    "connection = pika.BlockingConnection(\n",
    "    pika.ConnectionParameters('127.0.0.1',5672,'/',credentials))\n",
    "\n",
    "#define channel\n",
    "channel = connection.channel()\n",
    "\n",
    "#declare our queue\n",
    "channel.queue_declare(queue='hello')\n",
    "channel.basic_publish(exchange='',\n",
    "                     routing_key='hello',\n",
    "                     body='hello world!')\n",
    "\n",
    "print(\"[x] Sent 'hello world!'\")\n",
    "\n",
    "#colse connection\n",
    "connection.close()"
   ]
  },
  {
   "cell_type": "code",
   "execution_count": null,
   "id": "73ea0efb",
   "metadata": {},
   "outputs": [
    {
     "name": "stdout",
     "output_type": "stream",
     "text": [
      "[*] Waiting for message. To exit press CTRL+C\n",
      "[x] Received b'hello world!'\n"
     ]
    }
   ],
   "source": [
    "### for receiver\n",
    "# again define connection \n",
    "\n",
    "def main():\n",
    "    credentials = pika.PlainCredentials('user_name', 'password')#username and password logged in rabbitmq server\n",
    "    \n",
    "    connection = pika.BlockingConnection(pika.ConnectionParameters('127.0.0.1',5672,'/',credentials))\n",
    "\n",
    "# define channel\n",
    "    channel = connection.channel()\n",
    "\n",
    "#define queue for which you want read the message \n",
    "    channel.queue_declare(queue='hello')\n",
    "\n",
    "    def callback(ch,method,properties, body):\n",
    "        print(\"[x] Received %r\"%body)\n",
    "    channel.basic_consume(\n",
    "        queue='hello', on_message_callback=callback, auto_ack=True\n",
    "        )\n",
    "\n",
    "    print('[*] Waiting for message. To exit press CTRL+C')\n",
    "\n",
    "    channel.start_consuming()\n",
    "    \n",
    "if __name__ =='__main__':\n",
    "    \n",
    "    try:\n",
    "        main()\n",
    "    except KeyboardInterrupt:\n",
    "        print('Interrupted')\n",
    "        try:\n",
    "            sys.exit(0)\n",
    "        except SystemExit:\n",
    "            os._exit(0)\n",
    "\n",
    "\n",
    "\n"
   ]
  },
  {
   "cell_type": "code",
   "execution_count": null,
   "id": "676531cb",
   "metadata": {},
   "outputs": [],
   "source": []
  }
 ],
 "metadata": {
  "kernelspec": {
   "display_name": "Python 3 (ipykernel)",
   "language": "python",
   "name": "python3"
  },
  "language_info": {
   "codemirror_mode": {
    "name": "ipython",
    "version": 3
   },
   "file_extension": ".py",
   "mimetype": "text/x-python",
   "name": "python",
   "nbconvert_exporter": "python",
   "pygments_lexer": "ipython3",
   "version": "3.8.10"
  }
 },
 "nbformat": 4,
 "nbformat_minor": 5
}
